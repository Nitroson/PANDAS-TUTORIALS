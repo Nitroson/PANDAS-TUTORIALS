{
 "cells": [
  {
   "cell_type": "markdown",
   "id": "2c522661",
   "metadata": {},
   "source": [
    "### Using Pandas to Get Familiar With Your Data"
   ]
  },
  {
   "cell_type": "markdown",
   "id": "1f22a95e",
   "metadata": {},
   "source": [
    "\n",
    "***The first step in any machine learning project is familiarize yourself with the data. You'll use the Pandas library for this. Pandas is the primary tool data scientists use for exploring and manipulating data. Most people abbreviate pandas in their code as pd. We do this with the command***"
   ]
  },
  {
   "cell_type": "markdown",
   "id": "7b1afac5",
   "metadata": {},
   "source": [
    "What kind of data does pandas handle ?"
   ]
  },
  {
   "cell_type": "code",
   "execution_count": 21,
   "id": "b9654c67",
   "metadata": {},
   "outputs": [],
   "source": [
    "#import modules\n",
    "import pandas as pd\n",
    "import numpy as np"
   ]
  },
  {
   "cell_type": "code",
   "execution_count": 22,
   "id": "d19f5ef9",
   "metadata": {},
   "outputs": [
    {
     "name": "stdout",
     "output_type": "stream",
     "text": [
      "1.2.4\n"
     ]
    }
   ],
   "source": [
    "#Checking version in pandas\n",
    "print(pd.__version__)"
   ]
  },
  {
   "cell_type": "code",
   "execution_count": 23,
   "id": "84f05e29",
   "metadata": {},
   "outputs": [
    {
     "data": {
      "text/plain": [
       "['BooleanDtype',\n",
       " 'Categorical',\n",
       " 'CategoricalDtype',\n",
       " 'CategoricalIndex',\n",
       " 'DataFrame',\n",
       " 'DateOffset',\n",
       " 'DatetimeIndex',\n",
       " 'DatetimeTZDtype',\n",
       " 'ExcelFile',\n",
       " 'ExcelWriter',\n",
       " 'Flags',\n",
       " 'Float32Dtype',\n",
       " 'Float64Dtype',\n",
       " 'Float64Index',\n",
       " 'Grouper',\n",
       " 'HDFStore',\n",
       " 'Index',\n",
       " 'IndexSlice',\n",
       " 'Int16Dtype',\n",
       " 'Int32Dtype',\n",
       " 'Int64Dtype',\n",
       " 'Int64Index',\n",
       " 'Int8Dtype',\n",
       " 'Interval',\n",
       " 'IntervalDtype',\n",
       " 'IntervalIndex',\n",
       " 'MultiIndex',\n",
       " 'NA',\n",
       " 'NaT',\n",
       " 'NamedAgg',\n",
       " 'Period',\n",
       " 'PeriodDtype',\n",
       " 'PeriodIndex',\n",
       " 'RangeIndex',\n",
       " 'Series',\n",
       " 'SparseDtype',\n",
       " 'StringDtype',\n",
       " 'Timedelta',\n",
       " 'TimedeltaIndex',\n",
       " 'Timestamp',\n",
       " 'UInt16Dtype',\n",
       " 'UInt32Dtype',\n",
       " 'UInt64Dtype',\n",
       " 'UInt64Index',\n",
       " 'UInt8Dtype',\n",
       " '__builtins__',\n",
       " '__cached__',\n",
       " '__doc__',\n",
       " '__docformat__',\n",
       " '__file__',\n",
       " '__getattr__',\n",
       " '__git_version__',\n",
       " '__loader__',\n",
       " '__name__',\n",
       " '__package__',\n",
       " '__path__',\n",
       " '__spec__',\n",
       " '__version__',\n",
       " '_config',\n",
       " '_hashtable',\n",
       " '_is_numpy_dev',\n",
       " '_lib',\n",
       " '_libs',\n",
       " '_np_version_under1p17',\n",
       " '_np_version_under1p18',\n",
       " '_testing',\n",
       " '_tslib',\n",
       " '_typing',\n",
       " '_version',\n",
       " 'api',\n",
       " 'array',\n",
       " 'arrays',\n",
       " 'bdate_range',\n",
       " 'compat',\n",
       " 'concat',\n",
       " 'core',\n",
       " 'crosstab',\n",
       " 'cut',\n",
       " 'date_range',\n",
       " 'describe_option',\n",
       " 'errors',\n",
       " 'eval',\n",
       " 'factorize',\n",
       " 'get_dummies',\n",
       " 'get_option',\n",
       " 'infer_freq',\n",
       " 'interval_range',\n",
       " 'io',\n",
       " 'isna',\n",
       " 'isnull',\n",
       " 'json_normalize',\n",
       " 'lreshape',\n",
       " 'melt',\n",
       " 'merge',\n",
       " 'merge_asof',\n",
       " 'merge_ordered',\n",
       " 'notna',\n",
       " 'notnull',\n",
       " 'offsets',\n",
       " 'option_context',\n",
       " 'options',\n",
       " 'pandas',\n",
       " 'period_range',\n",
       " 'pivot',\n",
       " 'pivot_table',\n",
       " 'plotting',\n",
       " 'qcut',\n",
       " 'read_clipboard',\n",
       " 'read_csv',\n",
       " 'read_excel',\n",
       " 'read_feather',\n",
       " 'read_fwf',\n",
       " 'read_gbq',\n",
       " 'read_hdf',\n",
       " 'read_html',\n",
       " 'read_json',\n",
       " 'read_orc',\n",
       " 'read_parquet',\n",
       " 'read_pickle',\n",
       " 'read_sas',\n",
       " 'read_spss',\n",
       " 'read_sql',\n",
       " 'read_sql_query',\n",
       " 'read_sql_table',\n",
       " 'read_stata',\n",
       " 'read_table',\n",
       " 'reset_option',\n",
       " 'set_eng_float_format',\n",
       " 'set_option',\n",
       " 'show_versions',\n",
       " 'test',\n",
       " 'testing',\n",
       " 'timedelta_range',\n",
       " 'to_datetime',\n",
       " 'to_numeric',\n",
       " 'to_pickle',\n",
       " 'to_timedelta',\n",
       " 'tseries',\n",
       " 'unique',\n",
       " 'util',\n",
       " 'value_counts',\n",
       " 'wide_to_long']"
      ]
     },
     "execution_count": 23,
     "metadata": {},
     "output_type": "execute_result"
    }
   ],
   "source": [
    "# display all pandas properties \n",
    "dir(pd)"
   ]
  },
  {
   "cell_type": "markdown",
   "id": "dffaab81",
   "metadata": {},
   "source": [
    " #### Pandas can be grouped into two data structure catergories:\n",
    " * 1. Series\n",
    " * 2. Dataframe"
   ]
  },
  {
   "cell_type": "markdown",
   "id": "cf29e734",
   "metadata": {},
   "source": [
    "## Pandas Series"
   ]
  },
  {
   "cell_type": "markdown",
   "id": "e3d88900",
   "metadata": {},
   "source": [
    "* Series is a one-dimensional labeled array capable of holding any data type (integers, strings, floating point numbers,\n",
    "* Python objects, etc.). The axis labels are collectively referred to as the index. The basic method to create a Series is to call"
   ]
  },
  {
   "cell_type": "markdown",
   "id": "1d4a6df3",
   "metadata": {},
   "source": [
    "***Here is an illustrative examples of the total points obtained from the top six 2021/2022 European league winners.***\n"
   ]
  },
  {
   "cell_type": "code",
   "execution_count": 24,
   "id": "f78fb66b",
   "metadata": {},
   "outputs": [
    {
     "data": {
      "text/plain": [
       "0    93\n",
       "1    86\n",
       "2    77\n",
       "3    89\n",
       "4    86\n",
       "5    83\n",
       "dtype: int64"
      ]
     },
     "execution_count": 24,
     "metadata": {},
     "output_type": "execute_result"
    }
   ],
   "source": [
    "#initializing a variable t6_pts to store the points obtained\n",
    "t6_pts = pd.Series([93,86,77,89,86,83])\n",
    "t6_pts"
   ]
  },
  {
   "cell_type": "code",
   "execution_count": 25,
   "id": "eaca977b",
   "metadata": {},
   "outputs": [
    {
     "data": {
      "text/plain": [
       "0    93\n",
       "1    86\n",
       "2    77\n",
       "3    89\n",
       "4    86\n",
       "5    83\n",
       "Name: Top six league winners, dtype: int64"
      ]
     },
     "execution_count": 25,
     "metadata": {},
     "output_type": "execute_result"
    }
   ],
   "source": [
    "# Declaring a name to our series data\n",
    "t6_pts.name = 'Top six league winners'\n",
    "t6_pts"
   ]
  },
  {
   "cell_type": "code",
   "execution_count": 26,
   "id": "3b03f08f",
   "metadata": {},
   "outputs": [
    {
     "data": {
      "text/plain": [
       "dtype('int64')"
      ]
     },
     "execution_count": 26,
     "metadata": {},
     "output_type": "execute_result"
    }
   ],
   "source": [
    "#Displaying the datatype and values\n",
    "t6_pts.dtype\n"
   ]
  },
  {
   "cell_type": "code",
   "execution_count": 27,
   "id": "eaf917e3",
   "metadata": {},
   "outputs": [
    {
     "data": {
      "text/plain": [
       "array([93, 86, 77, 89, 86, 83])"
      ]
     },
     "execution_count": 27,
     "metadata": {},
     "output_type": "execute_result"
    }
   ],
   "source": [
    "t6_pts.values"
   ]
  },
  {
   "cell_type": "code",
   "execution_count": null,
   "id": "d6b76ccc",
   "metadata": {},
   "outputs": [],
   "source": []
  },
  {
   "cell_type": "code",
   "execution_count": null,
   "id": "d8d734a5",
   "metadata": {},
   "outputs": [],
   "source": []
  },
  {
   "cell_type": "code",
   "execution_count": 28,
   "id": "57d2662d",
   "metadata": {},
   "outputs": [
    {
     "data": {
      "text/plain": [
       "93"
      ]
     },
     "execution_count": 28,
     "metadata": {},
     "output_type": "execute_result"
    }
   ],
   "source": [
    "#Displaying the first index \n",
    "t6_pts[0]\n"
   ]
  },
  {
   "cell_type": "code",
   "execution_count": 29,
   "id": "692dd8f3",
   "metadata": {},
   "outputs": [
    {
     "data": {
      "text/plain": [
       "RangeIndex(start=0, stop=6, step=1)"
      ]
     },
     "execution_count": 29,
     "metadata": {},
     "output_type": "execute_result"
    }
   ],
   "source": [
    "t6_pts.index"
   ]
  },
  {
   "cell_type": "code",
   "execution_count": null,
   "id": "0aa40bc3",
   "metadata": {},
   "outputs": [],
   "source": []
  },
  {
   "cell_type": "code",
   "execution_count": null,
   "id": "9e3dabaa",
   "metadata": {},
   "outputs": [],
   "source": []
  },
  {
   "cell_type": "code",
   "execution_count": 30,
   "id": "48105f28",
   "metadata": {},
   "outputs": [
    {
     "data": {
      "text/plain": [
       "Manchester City    93\n",
       "Real Madrid        86\n",
       "Bayern Muchen      77\n",
       "AC Milan           89\n",
       "PSG                86\n",
       "Ajax               83\n",
       "Name: Top six league winners, dtype: int64"
      ]
     },
     "execution_count": 30,
     "metadata": {},
     "output_type": "execute_result"
    }
   ],
   "source": [
    "#Matching various teams to their respective index\n",
    "\n",
    "t6_pts.index = [\n",
    "    \n",
    "'Manchester City',\n",
    "'Real Madrid',\n",
    "'Bayern Muchen',\n",
    "'AC Milan',\n",
    "'PSG',\n",
    "'Ajax',\n",
    "    \n",
    "    \n",
    "    \n",
    "    \n",
    "    \n",
    "    \n",
    "]\n",
    "\n",
    "t6_pts"
   ]
  },
  {
   "cell_type": "code",
   "execution_count": null,
   "id": "23c9563d",
   "metadata": {},
   "outputs": [],
   "source": []
  },
  {
   "cell_type": "code",
   "execution_count": 31,
   "id": "10ca4baf",
   "metadata": {},
   "outputs": [
    {
     "data": {
      "text/plain": [
       "Manchester City    93\n",
       "Real Madrid        86\n",
       "Bayern Muchen      77\n",
       "AC Milan           89\n",
       "PSG                86\n",
       "Ajax               83\n",
       "Name: Top six league winners, dtype: int64"
      ]
     },
     "execution_count": 31,
     "metadata": {},
     "output_type": "execute_result"
    }
   ],
   "source": [
    "#alternative way using t6_pts = pd.Series(data, index=index)\n",
    "\n",
    "pd.Series(\n",
    "    [93, 86, 77, 89, 86, 83],\n",
    "    index=['Manchester City','Real Madrid', 'Bayern Muchen', 'AC Milan', 'PSG', 'Ajax'],\n",
    "    name='Top six league winners')"
   ]
  },
  {
   "cell_type": "code",
   "execution_count": null,
   "id": "784cdf14",
   "metadata": {},
   "outputs": [],
   "source": []
  },
  {
   "cell_type": "code",
   "execution_count": 32,
   "id": "8b7cb8a5",
   "metadata": {},
   "outputs": [
    {
     "data": {
      "text/plain": [
       "Real Madrid      86\n",
       "Bayern Muchen    77\n",
       "AC Milan         89\n",
       "Name: Top six league winners, dtype: int64"
      ]
     },
     "execution_count": 32,
     "metadata": {},
     "output_type": "execute_result"
    }
   ],
   "source": [
    "#Displaying some part of the data \n",
    "pd.Series(t6_pts, index=['Real Madrid', 'Bayern Muchen', 'AC Milan', ])\n"
   ]
  },
  {
   "cell_type": "markdown",
   "id": "fb3e5093",
   "metadata": {},
   "source": [
    "### Indexing "
   ]
  },
  {
   "cell_type": "code",
   "execution_count": 33,
   "id": "e5dadd07",
   "metadata": {},
   "outputs": [
    {
     "data": {
      "text/plain": [
       "Manchester City    93\n",
       "Real Madrid        86\n",
       "Bayern Muchen      77\n",
       "AC Milan           89\n",
       "PSG                86\n",
       "Ajax               83\n",
       "Name: Top six league winners, dtype: int64"
      ]
     },
     "execution_count": 33,
     "metadata": {},
     "output_type": "execute_result"
    }
   ],
   "source": [
    "#Dispalying the info about data\n",
    "t6_pts"
   ]
  },
  {
   "cell_type": "code",
   "execution_count": 34,
   "id": "309a3c6a",
   "metadata": {},
   "outputs": [
    {
     "data": {
      "text/plain": [
       "Manchester City    93\n",
       "Ajax               83\n",
       "Name: Top six league winners, dtype: int64"
      ]
     },
     "execution_count": 34,
     "metadata": {},
     "output_type": "execute_result"
    }
   ],
   "source": [
    "t6_pts[['Manchester City','Ajax']]"
   ]
  },
  {
   "cell_type": "code",
   "execution_count": 35,
   "id": "9ef79f12",
   "metadata": {},
   "outputs": [
    {
     "data": {
      "text/plain": [
       "Manchester City    93\n",
       "Real Madrid        86\n",
       "Name: Top six league winners, dtype: int64"
      ]
     },
     "execution_count": 35,
     "metadata": {},
     "output_type": "execute_result"
    }
   ],
   "source": [
    "t6_pts.iloc[[0,1]]"
   ]
  },
  {
   "cell_type": "code",
   "execution_count": 17,
   "id": "f241b9c9",
   "metadata": {},
   "outputs": [
    {
     "data": {
      "text/plain": [
       "Real Madrid      86\n",
       "Bayern Muchen    77\n",
       "AC Milan         89\n",
       "PSG              86\n",
       "Name: Top six league winners, dtype: int64"
      ]
     },
     "execution_count": 17,
     "metadata": {},
     "output_type": "execute_result"
    }
   ],
   "source": [
    "t6_pts['Real Madrid':'PSG']"
   ]
  },
  {
   "cell_type": "code",
   "execution_count": 36,
   "id": "fc4b0737",
   "metadata": {},
   "outputs": [
    {
     "data": {
      "text/plain": [
       "Manchester City    93\n",
       "Name: Top six league winners, dtype: int64"
      ]
     },
     "execution_count": 36,
     "metadata": {},
     "output_type": "execute_result"
    }
   ],
   "source": [
    "t6_pts[0:1]"
   ]
  },
  {
   "cell_type": "code",
   "execution_count": null,
   "id": "aee6d356",
   "metadata": {},
   "outputs": [],
   "source": []
  },
  {
   "cell_type": "markdown",
   "id": "fa92f29a",
   "metadata": {},
   "source": [
    "### Conditional Boolean"
   ]
  },
  {
   "cell_type": "code",
   "execution_count": 47,
   "id": "d2ecb9e0",
   "metadata": {},
   "outputs": [
    {
     "data": {
      "text/plain": [
       "85.66666666666667"
      ]
     },
     "execution_count": 47,
     "metadata": {},
     "output_type": "execute_result"
    }
   ],
   "source": [
    "t6_pts\n",
    "t6_pts>70\n"
   ]
  },
  {
   "cell_type": "code",
   "execution_count": 50,
   "id": "16cbb80f",
   "metadata": {},
   "outputs": [
    {
     "data": {
      "text/plain": [
       "5.428320796219276"
      ]
     },
     "execution_count": 50,
     "metadata": {},
     "output_type": "execute_result"
    }
   ],
   "source": [
    "t6_pts.mean()\n"
   ]
  },
  {
   "cell_type": "code",
   "execution_count": 49,
   "id": "a585d495",
   "metadata": {},
   "outputs": [
    {
     "data": {
      "text/plain": [
       "Manchester City    93\n",
       "Real Madrid        86\n",
       "AC Milan           89\n",
       "PSG                86\n",
       "Name: Top six league winners, dtype: int64"
      ]
     },
     "execution_count": 49,
     "metadata": {},
     "output_type": "execute_result"
    }
   ],
   "source": [
    "t6_pts[t6_pts>t6_pts.mean()]"
   ]
  },
  {
   "cell_type": "code",
   "execution_count": 51,
   "id": "34a4d9f2",
   "metadata": {},
   "outputs": [
    {
     "data": {
      "text/plain": [
       "5.428320796219276"
      ]
     },
     "execution_count": 51,
     "metadata": {},
     "output_type": "execute_result"
    }
   ],
   "source": [
    "t6_pts.std()"
   ]
  },
  {
   "cell_type": "code",
   "execution_count": 52,
   "id": "a52effab",
   "metadata": {},
   "outputs": [
    {
     "data": {
      "text/plain": [
       "Manchester City    93\n",
       "Real Madrid        86\n",
       "AC Milan           89\n",
       "PSG                86\n",
       "Ajax               83\n",
       "Name: Top six league winners, dtype: int64"
      ]
     },
     "execution_count": 52,
     "metadata": {},
     "output_type": "execute_result"
    }
   ],
   "source": [
    "t6_pts[(t6_pts > t6_pts.mean() - t6_pts.std() / 2) | (t6_pts> t6_pts.mean() + t6_pts.std() / 2)]"
   ]
  },
  {
   "cell_type": "code",
   "execution_count": null,
   "id": "d8b87f67",
   "metadata": {},
   "outputs": [],
   "source": []
  },
  {
   "cell_type": "markdown",
   "id": "05866667",
   "metadata": {},
   "source": [
    "### Operations and methods"
   ]
  },
  {
   "cell_type": "code",
   "execution_count": 53,
   "id": "245b0d1b",
   "metadata": {},
   "outputs": [
    {
     "data": {
      "text/plain": [
       "Manchester City    9300\n",
       "Real Madrid        8600\n",
       "Bayern Muchen      7700\n",
       "AC Milan           8900\n",
       "PSG                8600\n",
       "Ajax               8300\n",
       "Name: Top six league winners, dtype: int64"
      ]
     },
     "execution_count": 53,
     "metadata": {},
     "output_type": "execute_result"
    }
   ],
   "source": [
    "t6_pts*100"
   ]
  },
  {
   "cell_type": "code",
   "execution_count": 54,
   "id": "eeb08483",
   "metadata": {},
   "outputs": [
    {
     "data": {
      "text/plain": [
       "Manchester City    4.532599\n",
       "Real Madrid        4.454347\n",
       "Bayern Muchen      4.343805\n",
       "AC Milan           4.488636\n",
       "PSG                4.454347\n",
       "Ajax               4.418841\n",
       "Name: Top six league winners, dtype: float64"
      ]
     },
     "execution_count": 54,
     "metadata": {},
     "output_type": "execute_result"
    }
   ],
   "source": [
    "np.log(t6_pts)"
   ]
  },
  {
   "cell_type": "code",
   "execution_count": 55,
   "id": "4ba59272",
   "metadata": {},
   "outputs": [
    {
     "data": {
      "text/plain": [
       "84.5"
      ]
     },
     "execution_count": 55,
     "metadata": {},
     "output_type": "execute_result"
    }
   ],
   "source": [
    "t6_pts['Real Madrid': 'PSG'].mean()"
   ]
  },
  {
   "cell_type": "code",
   "execution_count": null,
   "id": "3fe97f38",
   "metadata": {},
   "outputs": [],
   "source": []
  },
  {
   "cell_type": "code",
   "execution_count": null,
   "id": "8cf63a87",
   "metadata": {},
   "outputs": [],
   "source": []
  },
  {
   "cell_type": "markdown",
   "id": "0c8079c5",
   "metadata": {},
   "source": [
    "### Boolean Array"
   ]
  },
  {
   "cell_type": "code",
   "execution_count": 56,
   "id": "b899482a",
   "metadata": {},
   "outputs": [
    {
     "data": {
      "text/plain": [
       "Manchester City     True\n",
       "Real Madrid         True\n",
       "Bayern Muchen      False\n",
       "AC Milan            True\n",
       "PSG                 True\n",
       "Ajax               False\n",
       "Name: Top six league winners, dtype: bool"
      ]
     },
     "execution_count": 56,
     "metadata": {},
     "output_type": "execute_result"
    }
   ],
   "source": [
    "t6_pts\n",
    "t6_pts>85"
   ]
  },
  {
   "cell_type": "code",
   "execution_count": null,
   "id": "5af02d0d",
   "metadata": {},
   "outputs": [],
   "source": []
  },
  {
   "cell_type": "code",
   "execution_count": 57,
   "id": "89255bda",
   "metadata": {},
   "outputs": [
    {
     "data": {
      "text/plain": [
       "Manchester City    93\n",
       "Real Madrid        86\n",
       "AC Milan           89\n",
       "PSG                86\n",
       "Name: Top six league winners, dtype: int64"
      ]
     },
     "execution_count": 57,
     "metadata": {},
     "output_type": "execute_result"
    }
   ],
   "source": [
    "t6_pts[t6_pts>85]"
   ]
  },
  {
   "cell_type": "code",
   "execution_count": null,
   "id": "06cfaf83",
   "metadata": {},
   "outputs": [],
   "source": []
  },
  {
   "cell_type": "code",
   "execution_count": null,
   "id": "18c0dc26",
   "metadata": {},
   "outputs": [],
   "source": []
  },
  {
   "cell_type": "code",
   "execution_count": null,
   "id": "6f98ab48",
   "metadata": {},
   "outputs": [],
   "source": []
  }
 ],
 "metadata": {
  "kernelspec": {
   "display_name": "Python 3",
   "language": "python",
   "name": "python3"
  },
  "language_info": {
   "codemirror_mode": {
    "name": "ipython",
    "version": 3
   },
   "file_extension": ".py",
   "mimetype": "text/x-python",
   "name": "python",
   "nbconvert_exporter": "python",
   "pygments_lexer": "ipython3",
   "version": "3.8.8"
  }
 },
 "nbformat": 4,
 "nbformat_minor": 5
}
