{
 "cells": [
  {
   "cell_type": "markdown",
   "id": "2c522661",
   "metadata": {},
   "source": [
    "### Using Pandas to Get Familiar With Your Data"
   ]
  },
  {
   "cell_type": "markdown",
   "id": "1f22a95e",
   "metadata": {},
   "source": [
    "\n",
    "***The first step in any machine learning project is familiarize yourself with the data. You'll use the Pandas library for this. Pandas is the primary tool data scientists use for exploring and manipulating data. Most people abbreviate pandas in their code as pd. We do this with the command***"
   ]
  },
  {
   "cell_type": "markdown",
   "id": "7b1afac5",
   "metadata": {},
   "source": [
    "What kind of data does pandas handle ?"
   ]
  },
  {
   "cell_type": "code",
   "execution_count": 1,
   "id": "b9654c67",
   "metadata": {},
   "outputs": [],
   "source": [
    "#import modules\n",
    "import pandas as pd\n",
    "import numpy as np"
   ]
  },
  {
   "cell_type": "code",
   "execution_count": 2,
   "id": "d19f5ef9",
   "metadata": {},
   "outputs": [
    {
     "name": "stdout",
     "output_type": "stream",
     "text": [
      "1.2.4\n"
     ]
    }
   ],
   "source": [
    "#Checking version in pandas\n",
    "print(pd.__version__)"
   ]
  },
  {
   "cell_type": "code",
   "execution_count": 3,
   "id": "84f05e29",
   "metadata": {},
   "outputs": [
    {
     "data": {
      "text/plain": [
       "['BooleanDtype',\n",
       " 'Categorical',\n",
       " 'CategoricalDtype',\n",
       " 'CategoricalIndex',\n",
       " 'DataFrame',\n",
       " 'DateOffset',\n",
       " 'DatetimeIndex',\n",
       " 'DatetimeTZDtype',\n",
       " 'ExcelFile',\n",
       " 'ExcelWriter',\n",
       " 'Flags',\n",
       " 'Float32Dtype',\n",
       " 'Float64Dtype',\n",
       " 'Float64Index',\n",
       " 'Grouper',\n",
       " 'HDFStore',\n",
       " 'Index',\n",
       " 'IndexSlice',\n",
       " 'Int16Dtype',\n",
       " 'Int32Dtype',\n",
       " 'Int64Dtype',\n",
       " 'Int64Index',\n",
       " 'Int8Dtype',\n",
       " 'Interval',\n",
       " 'IntervalDtype',\n",
       " 'IntervalIndex',\n",
       " 'MultiIndex',\n",
       " 'NA',\n",
       " 'NaT',\n",
       " 'NamedAgg',\n",
       " 'Period',\n",
       " 'PeriodDtype',\n",
       " 'PeriodIndex',\n",
       " 'RangeIndex',\n",
       " 'Series',\n",
       " 'SparseDtype',\n",
       " 'StringDtype',\n",
       " 'Timedelta',\n",
       " 'TimedeltaIndex',\n",
       " 'Timestamp',\n",
       " 'UInt16Dtype',\n",
       " 'UInt32Dtype',\n",
       " 'UInt64Dtype',\n",
       " 'UInt64Index',\n",
       " 'UInt8Dtype',\n",
       " '__builtins__',\n",
       " '__cached__',\n",
       " '__doc__',\n",
       " '__docformat__',\n",
       " '__file__',\n",
       " '__getattr__',\n",
       " '__git_version__',\n",
       " '__loader__',\n",
       " '__name__',\n",
       " '__package__',\n",
       " '__path__',\n",
       " '__spec__',\n",
       " '__version__',\n",
       " '_config',\n",
       " '_hashtable',\n",
       " '_is_numpy_dev',\n",
       " '_lib',\n",
       " '_libs',\n",
       " '_np_version_under1p17',\n",
       " '_np_version_under1p18',\n",
       " '_testing',\n",
       " '_tslib',\n",
       " '_typing',\n",
       " '_version',\n",
       " 'api',\n",
       " 'array',\n",
       " 'arrays',\n",
       " 'bdate_range',\n",
       " 'compat',\n",
       " 'concat',\n",
       " 'core',\n",
       " 'crosstab',\n",
       " 'cut',\n",
       " 'date_range',\n",
       " 'describe_option',\n",
       " 'errors',\n",
       " 'eval',\n",
       " 'factorize',\n",
       " 'get_dummies',\n",
       " 'get_option',\n",
       " 'infer_freq',\n",
       " 'interval_range',\n",
       " 'io',\n",
       " 'isna',\n",
       " 'isnull',\n",
       " 'json_normalize',\n",
       " 'lreshape',\n",
       " 'melt',\n",
       " 'merge',\n",
       " 'merge_asof',\n",
       " 'merge_ordered',\n",
       " 'notna',\n",
       " 'notnull',\n",
       " 'offsets',\n",
       " 'option_context',\n",
       " 'options',\n",
       " 'pandas',\n",
       " 'period_range',\n",
       " 'pivot',\n",
       " 'pivot_table',\n",
       " 'plotting',\n",
       " 'qcut',\n",
       " 'read_clipboard',\n",
       " 'read_csv',\n",
       " 'read_excel',\n",
       " 'read_feather',\n",
       " 'read_fwf',\n",
       " 'read_gbq',\n",
       " 'read_hdf',\n",
       " 'read_html',\n",
       " 'read_json',\n",
       " 'read_orc',\n",
       " 'read_parquet',\n",
       " 'read_pickle',\n",
       " 'read_sas',\n",
       " 'read_spss',\n",
       " 'read_sql',\n",
       " 'read_sql_query',\n",
       " 'read_sql_table',\n",
       " 'read_stata',\n",
       " 'read_table',\n",
       " 'reset_option',\n",
       " 'set_eng_float_format',\n",
       " 'set_option',\n",
       " 'show_versions',\n",
       " 'test',\n",
       " 'testing',\n",
       " 'timedelta_range',\n",
       " 'to_datetime',\n",
       " 'to_numeric',\n",
       " 'to_pickle',\n",
       " 'to_timedelta',\n",
       " 'tseries',\n",
       " 'unique',\n",
       " 'util',\n",
       " 'value_counts',\n",
       " 'wide_to_long']"
      ]
     },
     "execution_count": 3,
     "metadata": {},
     "output_type": "execute_result"
    }
   ],
   "source": [
    "# display all pandas properties \n",
    "dir(pd)"
   ]
  },
  {
   "cell_type": "markdown",
   "id": "dffaab81",
   "metadata": {},
   "source": [
    " #### Pandas can be grouped into two data structure catergories:\n",
    " * 1. Series\n",
    " * 2. Dataframe"
   ]
  },
  {
   "cell_type": "markdown",
   "id": "cf29e734",
   "metadata": {},
   "source": [
    "## Pandas Series"
   ]
  },
  {
   "cell_type": "markdown",
   "id": "e3d88900",
   "metadata": {},
   "source": [
    "* Series is a one-dimensional labeled array capable of holding any data type (integers, strings, floating point numbers,\n",
    "* Python objects, etc.). The axis labels are collectively referred to as the index. The basic method to create a Series is to call"
   ]
  },
  {
   "cell_type": "markdown",
   "id": "1d4a6df3",
   "metadata": {},
   "source": [
    "***Here is an illustrative examples of the total points obtained from the top six 2021/2022 European league winners.***\n"
   ]
  },
  {
   "cell_type": "code",
   "execution_count": 4,
   "id": "f78fb66b",
   "metadata": {},
   "outputs": [
    {
     "data": {
      "text/plain": [
       "0    93\n",
       "1    86\n",
       "2    77\n",
       "3    89\n",
       "4    86\n",
       "5    83\n",
       "dtype: int64"
      ]
     },
     "execution_count": 4,
     "metadata": {},
     "output_type": "execute_result"
    }
   ],
   "source": [
    "#initializing a variable t6_pts to store the points obtained\n",
    "t6_pts = pd.Series([93,86,77,89,86,83])\n",
    "t6_pts"
   ]
  },
  {
   "cell_type": "code",
   "execution_count": 5,
   "id": "eaca977b",
   "metadata": {},
   "outputs": [
    {
     "data": {
      "text/plain": [
       "0    93\n",
       "1    86\n",
       "2    77\n",
       "3    89\n",
       "4    86\n",
       "5    83\n",
       "Name: Top six league winners, dtype: int64"
      ]
     },
     "execution_count": 5,
     "metadata": {},
     "output_type": "execute_result"
    }
   ],
   "source": [
    "# Declaring a name to our series data\n",
    "t6_pts.name = 'Top six league winners'\n",
    "t6_pts"
   ]
  },
  {
   "cell_type": "code",
   "execution_count": 6,
   "id": "3b03f08f",
   "metadata": {},
   "outputs": [
    {
     "data": {
      "text/plain": [
       "dtype('int64')"
      ]
     },
     "execution_count": 6,
     "metadata": {},
     "output_type": "execute_result"
    }
   ],
   "source": [
    "#Displaying the datatype and values\n",
    "t6_pts.dtype\n"
   ]
  },
  {
   "cell_type": "code",
   "execution_count": 7,
   "id": "eaf917e3",
   "metadata": {},
   "outputs": [
    {
     "data": {
      "text/plain": [
       "array([93, 86, 77, 89, 86, 83])"
      ]
     },
     "execution_count": 7,
     "metadata": {},
     "output_type": "execute_result"
    }
   ],
   "source": [
    "t6_pts.values"
   ]
  },
  {
   "cell_type": "code",
   "execution_count": null,
   "id": "d6b76ccc",
   "metadata": {},
   "outputs": [],
   "source": []
  },
  {
   "cell_type": "code",
   "execution_count": null,
   "id": "d8d734a5",
   "metadata": {},
   "outputs": [],
   "source": []
  },
  {
   "cell_type": "code",
   "execution_count": 8,
   "id": "57d2662d",
   "metadata": {},
   "outputs": [
    {
     "data": {
      "text/plain": [
       "93"
      ]
     },
     "execution_count": 8,
     "metadata": {},
     "output_type": "execute_result"
    }
   ],
   "source": [
    "#Displaying the first index \n",
    "t6_pts[0]\n"
   ]
  },
  {
   "cell_type": "code",
   "execution_count": 9,
   "id": "692dd8f3",
   "metadata": {},
   "outputs": [
    {
     "data": {
      "text/plain": [
       "RangeIndex(start=0, stop=6, step=1)"
      ]
     },
     "execution_count": 9,
     "metadata": {},
     "output_type": "execute_result"
    }
   ],
   "source": [
    "t6_pts.index"
   ]
  },
  {
   "cell_type": "code",
   "execution_count": null,
   "id": "0aa40bc3",
   "metadata": {},
   "outputs": [],
   "source": []
  },
  {
   "cell_type": "code",
   "execution_count": null,
   "id": "9e3dabaa",
   "metadata": {},
   "outputs": [],
   "source": []
  },
  {
   "cell_type": "code",
   "execution_count": 10,
   "id": "48105f28",
   "metadata": {},
   "outputs": [
    {
     "data": {
      "text/plain": [
       "Manchester City    93\n",
       "Real Madrid        86\n",
       "Bayern Muchen      77\n",
       "AC Milan           89\n",
       "PSG                86\n",
       "Ajax               83\n",
       "Name: Top six league winners, dtype: int64"
      ]
     },
     "execution_count": 10,
     "metadata": {},
     "output_type": "execute_result"
    }
   ],
   "source": [
    "#Matching various teams to their respective index\n",
    "\n",
    "t6_pts.index = [\n",
    "    \n",
    "'Manchester City',\n",
    "'Real Madrid',\n",
    "'Bayern Muchen',\n",
    "'AC Milan',\n",
    "'PSG',\n",
    "'Ajax',\n",
    "    \n",
    "    \n",
    "    \n",
    "    \n",
    "    \n",
    "    \n",
    "]\n",
    "\n",
    "t6_pts"
   ]
  },
  {
   "cell_type": "code",
   "execution_count": null,
   "id": "23c9563d",
   "metadata": {},
   "outputs": [],
   "source": []
  },
  {
   "cell_type": "code",
   "execution_count": 11,
   "id": "10ca4baf",
   "metadata": {},
   "outputs": [
    {
     "data": {
      "text/plain": [
       "Manchester City    93\n",
       "Real Madrid        86\n",
       "Bayern Muchen      77\n",
       "AC Milan           89\n",
       "PSG                86\n",
       "Ajax               83\n",
       "Name: Top six league winners, dtype: int64"
      ]
     },
     "execution_count": 11,
     "metadata": {},
     "output_type": "execute_result"
    }
   ],
   "source": [
    "#alternative way using t6_pts = pd.Series(data, index=index)\n",
    "\n",
    "pd.Series(\n",
    "    [93, 86, 77, 89, 86, 83],\n",
    "    index=['Manchester City','Real Madrid', 'Bayern Muchen', 'AC Milan', 'PSG', 'Ajax'],\n",
    "    name='Top six league winners')"
   ]
  },
  {
   "cell_type": "code",
   "execution_count": null,
   "id": "784cdf14",
   "metadata": {},
   "outputs": [],
   "source": []
  },
  {
   "cell_type": "code",
   "execution_count": 12,
   "id": "8b7cb8a5",
   "metadata": {},
   "outputs": [
    {
     "data": {
      "text/plain": [
       "Real Madrid      86\n",
       "Bayern Muchen    77\n",
       "AC Milan         89\n",
       "Name: Top six league winners, dtype: int64"
      ]
     },
     "execution_count": 12,
     "metadata": {},
     "output_type": "execute_result"
    }
   ],
   "source": [
    "#Displaying some part of the data \n",
    "pd.Series(t6_pts, index=['Real Madrid', 'Bayern Muchen', 'AC Milan', ])\n"
   ]
  },
  {
   "cell_type": "markdown",
   "id": "fb3e5093",
   "metadata": {},
   "source": [
    "### Indexing "
   ]
  },
  {
   "cell_type": "code",
   "execution_count": 13,
   "id": "e5dadd07",
   "metadata": {},
   "outputs": [
    {
     "data": {
      "text/plain": [
       "Manchester City    93\n",
       "Real Madrid        86\n",
       "Bayern Muchen      77\n",
       "AC Milan           89\n",
       "PSG                86\n",
       "Ajax               83\n",
       "Name: Top six league winners, dtype: int64"
      ]
     },
     "execution_count": 13,
     "metadata": {},
     "output_type": "execute_result"
    }
   ],
   "source": [
    "#Dispalying the info about data\n",
    "t6_pts"
   ]
  },
  {
   "cell_type": "code",
   "execution_count": 14,
   "id": "309a3c6a",
   "metadata": {},
   "outputs": [
    {
     "data": {
      "text/plain": [
       "Manchester City    93\n",
       "Ajax               83\n",
       "Name: Top six league winners, dtype: int64"
      ]
     },
     "execution_count": 14,
     "metadata": {},
     "output_type": "execute_result"
    }
   ],
   "source": [
    "t6_pts[['Manchester City','Ajax']]"
   ]
  },
  {
   "cell_type": "code",
   "execution_count": 15,
   "id": "9ef79f12",
   "metadata": {},
   "outputs": [
    {
     "data": {
      "text/plain": [
       "Manchester City    93\n",
       "Real Madrid        86\n",
       "Name: Top six league winners, dtype: int64"
      ]
     },
     "execution_count": 15,
     "metadata": {},
     "output_type": "execute_result"
    }
   ],
   "source": [
    "t6_pts.iloc[[0,1]]"
   ]
  },
  {
   "cell_type": "code",
   "execution_count": 16,
   "id": "f241b9c9",
   "metadata": {},
   "outputs": [
    {
     "data": {
      "text/plain": [
       "Real Madrid      86\n",
       "Bayern Muchen    77\n",
       "AC Milan         89\n",
       "PSG              86\n",
       "Name: Top six league winners, dtype: int64"
      ]
     },
     "execution_count": 16,
     "metadata": {},
     "output_type": "execute_result"
    }
   ],
   "source": [
    "t6_pts['Real Madrid':'PSG']"
   ]
  },
  {
   "cell_type": "code",
   "execution_count": 17,
   "id": "fc4b0737",
   "metadata": {},
   "outputs": [
    {
     "data": {
      "text/plain": [
       "Manchester City    93\n",
       "Name: Top six league winners, dtype: int64"
      ]
     },
     "execution_count": 17,
     "metadata": {},
     "output_type": "execute_result"
    }
   ],
   "source": [
    "t6_pts[0:1]"
   ]
  },
  {
   "cell_type": "code",
   "execution_count": null,
   "id": "aee6d356",
   "metadata": {},
   "outputs": [],
   "source": []
  },
  {
   "cell_type": "markdown",
   "id": "fa92f29a",
   "metadata": {},
   "source": [
    "### Conditional Boolean"
   ]
  },
  {
   "cell_type": "code",
   "execution_count": 18,
   "id": "d2ecb9e0",
   "metadata": {},
   "outputs": [
    {
     "data": {
      "text/plain": [
       "Manchester City    True\n",
       "Real Madrid        True\n",
       "Bayern Muchen      True\n",
       "AC Milan           True\n",
       "PSG                True\n",
       "Ajax               True\n",
       "Name: Top six league winners, dtype: bool"
      ]
     },
     "execution_count": 18,
     "metadata": {},
     "output_type": "execute_result"
    }
   ],
   "source": [
    "t6_pts\n",
    "t6_pts>70\n"
   ]
  },
  {
   "cell_type": "code",
   "execution_count": 19,
   "id": "16cbb80f",
   "metadata": {},
   "outputs": [
    {
     "data": {
      "text/plain": [
       "85.66666666666667"
      ]
     },
     "execution_count": 19,
     "metadata": {},
     "output_type": "execute_result"
    }
   ],
   "source": [
    "t6_pts.mean()\n"
   ]
  },
  {
   "cell_type": "code",
   "execution_count": 20,
   "id": "a585d495",
   "metadata": {},
   "outputs": [
    {
     "data": {
      "text/plain": [
       "Manchester City    93\n",
       "Real Madrid        86\n",
       "AC Milan           89\n",
       "PSG                86\n",
       "Name: Top six league winners, dtype: int64"
      ]
     },
     "execution_count": 20,
     "metadata": {},
     "output_type": "execute_result"
    }
   ],
   "source": [
    "t6_pts[t6_pts>t6_pts.mean()]"
   ]
  },
  {
   "cell_type": "code",
   "execution_count": 21,
   "id": "34a4d9f2",
   "metadata": {},
   "outputs": [
    {
     "data": {
      "text/plain": [
       "5.428320796219276"
      ]
     },
     "execution_count": 21,
     "metadata": {},
     "output_type": "execute_result"
    }
   ],
   "source": [
    "t6_pts.std()"
   ]
  },
  {
   "cell_type": "code",
   "execution_count": 22,
   "id": "a52effab",
   "metadata": {},
   "outputs": [
    {
     "data": {
      "text/plain": [
       "Manchester City    93\n",
       "Real Madrid        86\n",
       "AC Milan           89\n",
       "PSG                86\n",
       "Ajax               83\n",
       "Name: Top six league winners, dtype: int64"
      ]
     },
     "execution_count": 22,
     "metadata": {},
     "output_type": "execute_result"
    }
   ],
   "source": [
    "t6_pts[(t6_pts > t6_pts.mean() - t6_pts.std() / 2) | (t6_pts> t6_pts.mean() + t6_pts.std() / 2)]"
   ]
  },
  {
   "cell_type": "code",
   "execution_count": null,
   "id": "d8b87f67",
   "metadata": {},
   "outputs": [],
   "source": []
  },
  {
   "cell_type": "markdown",
   "id": "05866667",
   "metadata": {},
   "source": [
    "### Operations and methods"
   ]
  },
  {
   "cell_type": "code",
   "execution_count": 23,
   "id": "245b0d1b",
   "metadata": {},
   "outputs": [
    {
     "data": {
      "text/plain": [
       "Manchester City    9300\n",
       "Real Madrid        8600\n",
       "Bayern Muchen      7700\n",
       "AC Milan           8900\n",
       "PSG                8600\n",
       "Ajax               8300\n",
       "Name: Top six league winners, dtype: int64"
      ]
     },
     "execution_count": 23,
     "metadata": {},
     "output_type": "execute_result"
    }
   ],
   "source": [
    "t6_pts*100"
   ]
  },
  {
   "cell_type": "code",
   "execution_count": 24,
   "id": "eeb08483",
   "metadata": {},
   "outputs": [
    {
     "data": {
      "text/plain": [
       "Manchester City    4.532599\n",
       "Real Madrid        4.454347\n",
       "Bayern Muchen      4.343805\n",
       "AC Milan           4.488636\n",
       "PSG                4.454347\n",
       "Ajax               4.418841\n",
       "Name: Top six league winners, dtype: float64"
      ]
     },
     "execution_count": 24,
     "metadata": {},
     "output_type": "execute_result"
    }
   ],
   "source": [
    "np.log(t6_pts)"
   ]
  },
  {
   "cell_type": "code",
   "execution_count": 25,
   "id": "4ba59272",
   "metadata": {},
   "outputs": [
    {
     "data": {
      "text/plain": [
       "84.5"
      ]
     },
     "execution_count": 25,
     "metadata": {},
     "output_type": "execute_result"
    }
   ],
   "source": [
    "t6_pts['Real Madrid': 'PSG'].mean()"
   ]
  },
  {
   "cell_type": "code",
   "execution_count": null,
   "id": "3fe97f38",
   "metadata": {},
   "outputs": [],
   "source": []
  },
  {
   "cell_type": "code",
   "execution_count": null,
   "id": "8cf63a87",
   "metadata": {},
   "outputs": [],
   "source": []
  },
  {
   "cell_type": "markdown",
   "id": "0c8079c5",
   "metadata": {},
   "source": [
    "### Boolean Array"
   ]
  },
  {
   "cell_type": "code",
   "execution_count": 26,
   "id": "b899482a",
   "metadata": {},
   "outputs": [
    {
     "data": {
      "text/plain": [
       "Manchester City     True\n",
       "Real Madrid         True\n",
       "Bayern Muchen      False\n",
       "AC Milan            True\n",
       "PSG                 True\n",
       "Ajax               False\n",
       "Name: Top six league winners, dtype: bool"
      ]
     },
     "execution_count": 26,
     "metadata": {},
     "output_type": "execute_result"
    }
   ],
   "source": [
    "t6_pts\n",
    "t6_pts>85"
   ]
  },
  {
   "cell_type": "code",
   "execution_count": null,
   "id": "5af02d0d",
   "metadata": {},
   "outputs": [],
   "source": []
  },
  {
   "cell_type": "code",
   "execution_count": 27,
   "id": "89255bda",
   "metadata": {},
   "outputs": [
    {
     "data": {
      "text/plain": [
       "Manchester City    93\n",
       "Real Madrid        86\n",
       "AC Milan           89\n",
       "PSG                86\n",
       "Name: Top six league winners, dtype: int64"
      ]
     },
     "execution_count": 27,
     "metadata": {},
     "output_type": "execute_result"
    }
   ],
   "source": [
    "t6_pts[t6_pts>85]"
   ]
  },
  {
   "cell_type": "code",
   "execution_count": null,
   "id": "06cfaf83",
   "metadata": {},
   "outputs": [],
   "source": []
  },
  {
   "cell_type": "markdown",
   "id": "ff1a4472",
   "metadata": {},
   "source": [
    "### Another illustrative example \n",
    "\n",
    "#### an ndarray\n",
    ". a scalar value (like 5)\n"
   ]
  },
  {
   "cell_type": "code",
   "execution_count": 30,
   "id": "642ae463",
   "metadata": {},
   "outputs": [
    {
     "data": {
      "text/plain": [
       "a    1.608945\n",
       "b   -0.669065\n",
       "c   -1.394876\n",
       "d   -1.399377\n",
       "e    0.662107\n",
       "dtype: float64"
      ]
     },
     "execution_count": 30,
     "metadata": {},
     "output_type": "execute_result"
    }
   ],
   "source": [
    "s =pd.Series(np.random.randn(5), index=[\"a\",\"b\", \"c\", \"d\", \"e\"])\n",
    "s"
   ]
  },
  {
   "cell_type": "code",
   "execution_count": 31,
   "id": "e9b7fe5b",
   "metadata": {},
   "outputs": [
    {
     "data": {
      "text/plain": [
       "Index(['a', 'b', 'c', 'd', 'e'], dtype='object')"
      ]
     },
     "execution_count": 31,
     "metadata": {},
     "output_type": "execute_result"
    }
   ],
   "source": [
    "s.index"
   ]
  },
  {
   "cell_type": "code",
   "execution_count": 32,
   "id": "ec8aefa2",
   "metadata": {},
   "outputs": [
    {
     "data": {
      "text/plain": [
       "0    0.745449\n",
       "1   -0.645969\n",
       "2   -1.282759\n",
       "3    0.672198\n",
       "4   -2.568809\n",
       "dtype: float64"
      ]
     },
     "execution_count": 32,
     "metadata": {},
     "output_type": "execute_result"
    }
   ],
   "source": [
    "pd.Series(np.random.randn(5))"
   ]
  },
  {
   "cell_type": "code",
   "execution_count": null,
   "id": "810932e9",
   "metadata": {},
   "outputs": [],
   "source": []
  },
  {
   "cell_type": "code",
   "execution_count": null,
   "id": "36292669",
   "metadata": {},
   "outputs": [],
   "source": []
  },
  {
   "cell_type": "code",
   "execution_count": null,
   "id": "8a97a3da",
   "metadata": {},
   "outputs": [],
   "source": []
  },
  {
   "cell_type": "code",
   "execution_count": null,
   "id": "d1bd1e05",
   "metadata": {},
   "outputs": [],
   "source": []
  },
  {
   "cell_type": "markdown",
   "id": "dd456945",
   "metadata": {},
   "source": [
    "### Dataframe creation"
   ]
  },
  {
   "cell_type": "code",
   "execution_count": 33,
   "id": "6f98ab48",
   "metadata": {},
   "outputs": [],
   "source": [
    " df = pd.DataFrame({\n",
    "    'Points': [93, 66, 77, 89, 86, 83],\n",
    "    'Country': [\n",
    "        'England',\n",
    "        'Spain',\n",
    "        'Germany',\n",
    "        'Italy',\n",
    "        'France',\n",
    "        'Nedtherlands'\n",
    "    ],\n",
    "    'Goal scored': [\n",
    "        99,\n",
    "        80,\n",
    "        86,\n",
    "        89,\n",
    "        90,\n",
    "        98\n",
    "\n",
    "    ]\n",
    "    \n",
    "    \n",
    "}, columns=['Points', 'Country', 'Goal scored'])\n",
    "    \n",
    "    "
   ]
  },
  {
   "cell_type": "code",
   "execution_count": 34,
   "id": "261b3db3",
   "metadata": {},
   "outputs": [
    {
     "data": {
      "text/html": [
       "<div>\n",
       "<style scoped>\n",
       "    .dataframe tbody tr th:only-of-type {\n",
       "        vertical-align: middle;\n",
       "    }\n",
       "\n",
       "    .dataframe tbody tr th {\n",
       "        vertical-align: top;\n",
       "    }\n",
       "\n",
       "    .dataframe thead th {\n",
       "        text-align: right;\n",
       "    }\n",
       "</style>\n",
       "<table border=\"1\" class=\"dataframe\">\n",
       "  <thead>\n",
       "    <tr style=\"text-align: right;\">\n",
       "      <th></th>\n",
       "      <th>Points</th>\n",
       "      <th>Country</th>\n",
       "      <th>Goal scored</th>\n",
       "    </tr>\n",
       "  </thead>\n",
       "  <tbody>\n",
       "    <tr>\n",
       "      <th>0</th>\n",
       "      <td>93</td>\n",
       "      <td>England</td>\n",
       "      <td>99</td>\n",
       "    </tr>\n",
       "    <tr>\n",
       "      <th>1</th>\n",
       "      <td>66</td>\n",
       "      <td>Spain</td>\n",
       "      <td>80</td>\n",
       "    </tr>\n",
       "    <tr>\n",
       "      <th>2</th>\n",
       "      <td>77</td>\n",
       "      <td>Germany</td>\n",
       "      <td>86</td>\n",
       "    </tr>\n",
       "    <tr>\n",
       "      <th>3</th>\n",
       "      <td>89</td>\n",
       "      <td>Italy</td>\n",
       "      <td>89</td>\n",
       "    </tr>\n",
       "    <tr>\n",
       "      <th>4</th>\n",
       "      <td>86</td>\n",
       "      <td>France</td>\n",
       "      <td>90</td>\n",
       "    </tr>\n",
       "    <tr>\n",
       "      <th>5</th>\n",
       "      <td>83</td>\n",
       "      <td>Nedtherlands</td>\n",
       "      <td>98</td>\n",
       "    </tr>\n",
       "  </tbody>\n",
       "</table>\n",
       "</div>"
      ],
      "text/plain": [
       "   Points       Country  Goal scored\n",
       "0      93       England           99\n",
       "1      66         Spain           80\n",
       "2      77       Germany           86\n",
       "3      89         Italy           89\n",
       "4      86        France           90\n",
       "5      83  Nedtherlands           98"
      ]
     },
     "execution_count": 34,
     "metadata": {},
     "output_type": "execute_result"
    }
   ],
   "source": [
    "df"
   ]
  },
  {
   "cell_type": "code",
   "execution_count": 36,
   "id": "59b1ff3c",
   "metadata": {},
   "outputs": [
    {
     "data": {
      "text/html": [
       "<div>\n",
       "<style scoped>\n",
       "    .dataframe tbody tr th:only-of-type {\n",
       "        vertical-align: middle;\n",
       "    }\n",
       "\n",
       "    .dataframe tbody tr th {\n",
       "        vertical-align: top;\n",
       "    }\n",
       "\n",
       "    .dataframe thead th {\n",
       "        text-align: right;\n",
       "    }\n",
       "</style>\n",
       "<table border=\"1\" class=\"dataframe\">\n",
       "  <thead>\n",
       "    <tr style=\"text-align: right;\">\n",
       "      <th></th>\n",
       "      <th>Points</th>\n",
       "      <th>Country</th>\n",
       "      <th>Goal scored</th>\n",
       "    </tr>\n",
       "  </thead>\n",
       "  <tbody>\n",
       "    <tr>\n",
       "      <th>Manchester City</th>\n",
       "      <td>93</td>\n",
       "      <td>England</td>\n",
       "      <td>99</td>\n",
       "    </tr>\n",
       "    <tr>\n",
       "      <th>Real Madrid</th>\n",
       "      <td>66</td>\n",
       "      <td>Spain</td>\n",
       "      <td>80</td>\n",
       "    </tr>\n",
       "    <tr>\n",
       "      <th>Bayern Muchen</th>\n",
       "      <td>77</td>\n",
       "      <td>Germany</td>\n",
       "      <td>86</td>\n",
       "    </tr>\n",
       "    <tr>\n",
       "      <th>Ac Milan</th>\n",
       "      <td>89</td>\n",
       "      <td>Italy</td>\n",
       "      <td>89</td>\n",
       "    </tr>\n",
       "    <tr>\n",
       "      <th>PSG</th>\n",
       "      <td>86</td>\n",
       "      <td>France</td>\n",
       "      <td>90</td>\n",
       "    </tr>\n",
       "    <tr>\n",
       "      <th>Ajax</th>\n",
       "      <td>83</td>\n",
       "      <td>Nedtherlands</td>\n",
       "      <td>98</td>\n",
       "    </tr>\n",
       "  </tbody>\n",
       "</table>\n",
       "</div>"
      ],
      "text/plain": [
       "                 Points       Country  Goal scored\n",
       "Manchester City      93       England           99\n",
       "Real Madrid          66         Spain           80\n",
       "Bayern Muchen        77       Germany           86\n",
       "Ac Milan             89         Italy           89\n",
       "PSG                  86        France           90\n",
       "Ajax                 83  Nedtherlands           98"
      ]
     },
     "execution_count": 36,
     "metadata": {},
     "output_type": "execute_result"
    }
   ],
   "source": [
    "df.index = [\n",
    "    'Manchester City',\n",
    "    'Real Madrid',\n",
    "    'Bayern Muchen',\n",
    "    'Ac Milan',\n",
    "    'PSG',\n",
    "    'Ajax',\n",
    "    \n",
    "]\n",
    "df"
   ]
  },
  {
   "cell_type": "code",
   "execution_count": 37,
   "id": "2e34ce2c",
   "metadata": {},
   "outputs": [
    {
     "data": {
      "text/plain": [
       "Index(['Points', 'Country', 'Goal scored'], dtype='object')"
      ]
     },
     "execution_count": 37,
     "metadata": {},
     "output_type": "execute_result"
    }
   ],
   "source": [
    "df.columns"
   ]
  },
  {
   "cell_type": "code",
   "execution_count": 38,
   "id": "989a156d",
   "metadata": {},
   "outputs": [
    {
     "data": {
      "text/plain": [
       "Index(['Manchester City', 'Real Madrid', 'Bayern Muchen', 'Ac Milan', 'PSG',\n",
       "       'Ajax'],\n",
       "      dtype='object')"
      ]
     },
     "execution_count": 38,
     "metadata": {},
     "output_type": "execute_result"
    }
   ],
   "source": [
    "df.index"
   ]
  },
  {
   "cell_type": "code",
   "execution_count": 40,
   "id": "d34377c4",
   "metadata": {},
   "outputs": [
    {
     "name": "stdout",
     "output_type": "stream",
     "text": [
      "<class 'pandas.core.frame.DataFrame'>\n",
      "Index: 6 entries, Manchester City to Ajax\n",
      "Data columns (total 3 columns):\n",
      " #   Column       Non-Null Count  Dtype \n",
      "---  ------       --------------  ----- \n",
      " 0   Points       6 non-null      int64 \n",
      " 1   Country      6 non-null      object\n",
      " 2   Goal scored  6 non-null      int64 \n",
      "dtypes: int64(2), object(1)\n",
      "memory usage: 192.0+ bytes\n"
     ]
    }
   ],
   "source": [
    "df.info()"
   ]
  },
  {
   "cell_type": "code",
   "execution_count": 41,
   "id": "18713698",
   "metadata": {},
   "outputs": [
    {
     "data": {
      "text/plain": [
       "18"
      ]
     },
     "execution_count": 41,
     "metadata": {},
     "output_type": "execute_result"
    }
   ],
   "source": [
    "df.size"
   ]
  },
  {
   "cell_type": "code",
   "execution_count": 43,
   "id": "7a070ed4",
   "metadata": {},
   "outputs": [
    {
     "data": {
      "text/plain": [
       "(6, 3)"
      ]
     },
     "execution_count": 43,
     "metadata": {},
     "output_type": "execute_result"
    }
   ],
   "source": [
    "df.shape"
   ]
  },
  {
   "cell_type": "code",
   "execution_count": 44,
   "id": "9b1d47a5",
   "metadata": {},
   "outputs": [
    {
     "data": {
      "text/html": [
       "<div>\n",
       "<style scoped>\n",
       "    .dataframe tbody tr th:only-of-type {\n",
       "        vertical-align: middle;\n",
       "    }\n",
       "\n",
       "    .dataframe tbody tr th {\n",
       "        vertical-align: top;\n",
       "    }\n",
       "\n",
       "    .dataframe thead th {\n",
       "        text-align: right;\n",
       "    }\n",
       "</style>\n",
       "<table border=\"1\" class=\"dataframe\">\n",
       "  <thead>\n",
       "    <tr style=\"text-align: right;\">\n",
       "      <th></th>\n",
       "      <th>Points</th>\n",
       "      <th>Goal scored</th>\n",
       "    </tr>\n",
       "  </thead>\n",
       "  <tbody>\n",
       "    <tr>\n",
       "      <th>count</th>\n",
       "      <td>6.000000</td>\n",
       "      <td>6.000000</td>\n",
       "    </tr>\n",
       "    <tr>\n",
       "      <th>mean</th>\n",
       "      <td>82.333333</td>\n",
       "      <td>90.333333</td>\n",
       "    </tr>\n",
       "    <tr>\n",
       "      <th>std</th>\n",
       "      <td>9.667816</td>\n",
       "      <td>7.229569</td>\n",
       "    </tr>\n",
       "    <tr>\n",
       "      <th>min</th>\n",
       "      <td>66.000000</td>\n",
       "      <td>80.000000</td>\n",
       "    </tr>\n",
       "    <tr>\n",
       "      <th>25%</th>\n",
       "      <td>78.500000</td>\n",
       "      <td>86.750000</td>\n",
       "    </tr>\n",
       "    <tr>\n",
       "      <th>50%</th>\n",
       "      <td>84.500000</td>\n",
       "      <td>89.500000</td>\n",
       "    </tr>\n",
       "    <tr>\n",
       "      <th>75%</th>\n",
       "      <td>88.250000</td>\n",
       "      <td>96.000000</td>\n",
       "    </tr>\n",
       "    <tr>\n",
       "      <th>max</th>\n",
       "      <td>93.000000</td>\n",
       "      <td>99.000000</td>\n",
       "    </tr>\n",
       "  </tbody>\n",
       "</table>\n",
       "</div>"
      ],
      "text/plain": [
       "          Points  Goal scored\n",
       "count   6.000000     6.000000\n",
       "mean   82.333333    90.333333\n",
       "std     9.667816     7.229569\n",
       "min    66.000000    80.000000\n",
       "25%    78.500000    86.750000\n",
       "50%    84.500000    89.500000\n",
       "75%    88.250000    96.000000\n",
       "max    93.000000    99.000000"
      ]
     },
     "execution_count": 44,
     "metadata": {},
     "output_type": "execute_result"
    }
   ],
   "source": [
    "df.describe()"
   ]
  },
  {
   "cell_type": "code",
   "execution_count": 45,
   "id": "da8d65f3",
   "metadata": {},
   "outputs": [
    {
     "data": {
      "text/plain": [
       "Points          int64\n",
       "Country        object\n",
       "Goal scored     int64\n",
       "dtype: object"
      ]
     },
     "execution_count": 45,
     "metadata": {},
     "output_type": "execute_result"
    }
   ],
   "source": [
    "df.dtypes"
   ]
  },
  {
   "cell_type": "code",
   "execution_count": 47,
   "id": "cbc5e016",
   "metadata": {},
   "outputs": [
    {
     "data": {
      "text/plain": [
       "int64     2\n",
       "object    1\n",
       "dtype: int64"
      ]
     },
     "execution_count": 47,
     "metadata": {},
     "output_type": "execute_result"
    }
   ],
   "source": [
    "df.dtypes.value_counts()"
   ]
  },
  {
   "cell_type": "code",
   "execution_count": null,
   "id": "c47629e2",
   "metadata": {},
   "outputs": [],
   "source": []
  },
  {
   "cell_type": "markdown",
   "id": "72e8e783",
   "metadata": {},
   "source": [
    "\n",
    "### Indexing , Selection and Slicing"
   ]
  },
  {
   "cell_type": "code",
   "execution_count": 48,
   "id": "d7e8b41e",
   "metadata": {},
   "outputs": [
    {
     "data": {
      "text/html": [
       "<div>\n",
       "<style scoped>\n",
       "    .dataframe tbody tr th:only-of-type {\n",
       "        vertical-align: middle;\n",
       "    }\n",
       "\n",
       "    .dataframe tbody tr th {\n",
       "        vertical-align: top;\n",
       "    }\n",
       "\n",
       "    .dataframe thead th {\n",
       "        text-align: right;\n",
       "    }\n",
       "</style>\n",
       "<table border=\"1\" class=\"dataframe\">\n",
       "  <thead>\n",
       "    <tr style=\"text-align: right;\">\n",
       "      <th></th>\n",
       "      <th>Points</th>\n",
       "      <th>Country</th>\n",
       "      <th>Goal scored</th>\n",
       "    </tr>\n",
       "  </thead>\n",
       "  <tbody>\n",
       "    <tr>\n",
       "      <th>Manchester City</th>\n",
       "      <td>93</td>\n",
       "      <td>England</td>\n",
       "      <td>99</td>\n",
       "    </tr>\n",
       "    <tr>\n",
       "      <th>Real Madrid</th>\n",
       "      <td>66</td>\n",
       "      <td>Spain</td>\n",
       "      <td>80</td>\n",
       "    </tr>\n",
       "    <tr>\n",
       "      <th>Bayern Muchen</th>\n",
       "      <td>77</td>\n",
       "      <td>Germany</td>\n",
       "      <td>86</td>\n",
       "    </tr>\n",
       "    <tr>\n",
       "      <th>Ac Milan</th>\n",
       "      <td>89</td>\n",
       "      <td>Italy</td>\n",
       "      <td>89</td>\n",
       "    </tr>\n",
       "    <tr>\n",
       "      <th>PSG</th>\n",
       "      <td>86</td>\n",
       "      <td>France</td>\n",
       "      <td>90</td>\n",
       "    </tr>\n",
       "    <tr>\n",
       "      <th>Ajax</th>\n",
       "      <td>83</td>\n",
       "      <td>Nedtherlands</td>\n",
       "      <td>98</td>\n",
       "    </tr>\n",
       "  </tbody>\n",
       "</table>\n",
       "</div>"
      ],
      "text/plain": [
       "                 Points       Country  Goal scored\n",
       "Manchester City      93       England           99\n",
       "Real Madrid          66         Spain           80\n",
       "Bayern Muchen        77       Germany           86\n",
       "Ac Milan             89         Italy           89\n",
       "PSG                  86        France           90\n",
       "Ajax                 83  Nedtherlands           98"
      ]
     },
     "execution_count": 48,
     "metadata": {},
     "output_type": "execute_result"
    }
   ],
   "source": [
    "df"
   ]
  },
  {
   "cell_type": "code",
   "execution_count": 49,
   "id": "3fdf4186",
   "metadata": {},
   "outputs": [
    {
     "data": {
      "text/plain": [
       "Points              93\n",
       "Country        England\n",
       "Goal scored         99\n",
       "Name: Manchester City, dtype: object"
      ]
     },
     "execution_count": 49,
     "metadata": {},
     "output_type": "execute_result"
    }
   ],
   "source": [
    "df.iloc[0]"
   ]
  },
  {
   "cell_type": "code",
   "execution_count": 50,
   "id": "65e110a4",
   "metadata": {},
   "outputs": [
    {
     "data": {
      "text/plain": [
       "Points              93\n",
       "Country        England\n",
       "Goal scored         99\n",
       "Name: Manchester City, dtype: object"
      ]
     },
     "execution_count": 50,
     "metadata": {},
     "output_type": "execute_result"
    }
   ],
   "source": [
    "df.loc[\"Manchester City\"]"
   ]
  },
  {
   "cell_type": "code",
   "execution_count": null,
   "id": "1930d432",
   "metadata": {},
   "outputs": [],
   "source": []
  },
  {
   "cell_type": "code",
   "execution_count": 51,
   "id": "4515cf1d",
   "metadata": {},
   "outputs": [
    {
     "data": {
      "text/plain": [
       "Manchester City         England\n",
       "Real Madrid               Spain\n",
       "Bayern Muchen           Germany\n",
       "Ac Milan                  Italy\n",
       "PSG                      France\n",
       "Ajax               Nedtherlands\n",
       "Name: Country, dtype: object"
      ]
     },
     "execution_count": 51,
     "metadata": {},
     "output_type": "execute_result"
    }
   ],
   "source": [
    "df[\"Country\"]"
   ]
  },
  {
   "cell_type": "code",
   "execution_count": 52,
   "id": "01911815",
   "metadata": {},
   "outputs": [
    {
     "data": {
      "text/plain": [
       "Manchester City    93\n",
       "Real Madrid        66\n",
       "Bayern Muchen      77\n",
       "Ac Milan           89\n",
       "PSG                86\n",
       "Ajax               83\n",
       "Name: Points, dtype: int64"
      ]
     },
     "execution_count": 52,
     "metadata": {},
     "output_type": "execute_result"
    }
   ],
   "source": [
    "df['Points']"
   ]
  },
  {
   "cell_type": "code",
   "execution_count": 53,
   "id": "12af09a6",
   "metadata": {},
   "outputs": [
    {
     "data": {
      "text/html": [
       "<div>\n",
       "<style scoped>\n",
       "    .dataframe tbody tr th:only-of-type {\n",
       "        vertical-align: middle;\n",
       "    }\n",
       "\n",
       "    .dataframe tbody tr th {\n",
       "        vertical-align: top;\n",
       "    }\n",
       "\n",
       "    .dataframe thead th {\n",
       "        text-align: right;\n",
       "    }\n",
       "</style>\n",
       "<table border=\"1\" class=\"dataframe\">\n",
       "  <thead>\n",
       "    <tr style=\"text-align: right;\">\n",
       "      <th></th>\n",
       "      <th>Country</th>\n",
       "    </tr>\n",
       "  </thead>\n",
       "  <tbody>\n",
       "    <tr>\n",
       "      <th>Manchester City</th>\n",
       "      <td>England</td>\n",
       "    </tr>\n",
       "    <tr>\n",
       "      <th>Real Madrid</th>\n",
       "      <td>Spain</td>\n",
       "    </tr>\n",
       "    <tr>\n",
       "      <th>Bayern Muchen</th>\n",
       "      <td>Germany</td>\n",
       "    </tr>\n",
       "    <tr>\n",
       "      <th>Ac Milan</th>\n",
       "      <td>Italy</td>\n",
       "    </tr>\n",
       "    <tr>\n",
       "      <th>PSG</th>\n",
       "      <td>France</td>\n",
       "    </tr>\n",
       "    <tr>\n",
       "      <th>Ajax</th>\n",
       "      <td>Nedtherlands</td>\n",
       "    </tr>\n",
       "  </tbody>\n",
       "</table>\n",
       "</div>"
      ],
      "text/plain": [
       "                      Country\n",
       "Manchester City       England\n",
       "Real Madrid             Spain\n",
       "Bayern Muchen         Germany\n",
       "Ac Milan                Italy\n",
       "PSG                    France\n",
       "Ajax             Nedtherlands"
      ]
     },
     "execution_count": 53,
     "metadata": {},
     "output_type": "execute_result"
    }
   ],
   "source": [
    "df['Country'].to_frame()"
   ]
  },
  {
   "cell_type": "code",
   "execution_count": null,
   "id": "914d8e09",
   "metadata": {},
   "outputs": [],
   "source": []
  },
  {
   "cell_type": "code",
   "execution_count": 54,
   "id": "ec64fbc1",
   "metadata": {},
   "outputs": [
    {
     "data": {
      "text/html": [
       "<div>\n",
       "<style scoped>\n",
       "    .dataframe tbody tr th:only-of-type {\n",
       "        vertical-align: middle;\n",
       "    }\n",
       "\n",
       "    .dataframe tbody tr th {\n",
       "        vertical-align: top;\n",
       "    }\n",
       "\n",
       "    .dataframe thead th {\n",
       "        text-align: right;\n",
       "    }\n",
       "</style>\n",
       "<table border=\"1\" class=\"dataframe\">\n",
       "  <thead>\n",
       "    <tr style=\"text-align: right;\">\n",
       "      <th></th>\n",
       "      <th>Country</th>\n",
       "      <th>Goal scored</th>\n",
       "    </tr>\n",
       "  </thead>\n",
       "  <tbody>\n",
       "    <tr>\n",
       "      <th>Manchester City</th>\n",
       "      <td>England</td>\n",
       "      <td>99</td>\n",
       "    </tr>\n",
       "    <tr>\n",
       "      <th>Real Madrid</th>\n",
       "      <td>Spain</td>\n",
       "      <td>80</td>\n",
       "    </tr>\n",
       "    <tr>\n",
       "      <th>Bayern Muchen</th>\n",
       "      <td>Germany</td>\n",
       "      <td>86</td>\n",
       "    </tr>\n",
       "    <tr>\n",
       "      <th>Ac Milan</th>\n",
       "      <td>Italy</td>\n",
       "      <td>89</td>\n",
       "    </tr>\n",
       "    <tr>\n",
       "      <th>PSG</th>\n",
       "      <td>France</td>\n",
       "      <td>90</td>\n",
       "    </tr>\n",
       "    <tr>\n",
       "      <th>Ajax</th>\n",
       "      <td>Nedtherlands</td>\n",
       "      <td>98</td>\n",
       "    </tr>\n",
       "  </tbody>\n",
       "</table>\n",
       "</div>"
      ],
      "text/plain": [
       "                      Country  Goal scored\n",
       "Manchester City       England           99\n",
       "Real Madrid             Spain           80\n",
       "Bayern Muchen         Germany           86\n",
       "Ac Milan                Italy           89\n",
       "PSG                    France           90\n",
       "Ajax             Nedtherlands           98"
      ]
     },
     "execution_count": 54,
     "metadata": {},
     "output_type": "execute_result"
    }
   ],
   "source": [
    "df[['Country', 'Goal scored']]"
   ]
  },
  {
   "cell_type": "code",
   "execution_count": null,
   "id": "041f33f9",
   "metadata": {},
   "outputs": [],
   "source": []
  },
  {
   "cell_type": "code",
   "execution_count": 55,
   "id": "fe3568b8",
   "metadata": {},
   "outputs": [
    {
     "data": {
      "text/html": [
       "<div>\n",
       "<style scoped>\n",
       "    .dataframe tbody tr th:only-of-type {\n",
       "        vertical-align: middle;\n",
       "    }\n",
       "\n",
       "    .dataframe tbody tr th {\n",
       "        vertical-align: top;\n",
       "    }\n",
       "\n",
       "    .dataframe thead th {\n",
       "        text-align: right;\n",
       "    }\n",
       "</style>\n",
       "<table border=\"1\" class=\"dataframe\">\n",
       "  <thead>\n",
       "    <tr style=\"text-align: right;\">\n",
       "      <th></th>\n",
       "      <th>Points</th>\n",
       "      <th>Country</th>\n",
       "      <th>Goal scored</th>\n",
       "    </tr>\n",
       "  </thead>\n",
       "  <tbody>\n",
       "    <tr>\n",
       "      <th>Real Madrid</th>\n",
       "      <td>66</td>\n",
       "      <td>Spain</td>\n",
       "      <td>80</td>\n",
       "    </tr>\n",
       "    <tr>\n",
       "      <th>Bayern Muchen</th>\n",
       "      <td>77</td>\n",
       "      <td>Germany</td>\n",
       "      <td>86</td>\n",
       "    </tr>\n",
       "  </tbody>\n",
       "</table>\n",
       "</div>"
      ],
      "text/plain": [
       "               Points  Country  Goal scored\n",
       "Real Madrid        66    Spain           80\n",
       "Bayern Muchen      77  Germany           86"
      ]
     },
     "execution_count": 55,
     "metadata": {},
     "output_type": "execute_result"
    }
   ],
   "source": [
    "df[1:3]"
   ]
  },
  {
   "cell_type": "code",
   "execution_count": 56,
   "id": "1bcaefc8",
   "metadata": {},
   "outputs": [
    {
     "data": {
      "text/html": [
       "<div>\n",
       "<style scoped>\n",
       "    .dataframe tbody tr th:only-of-type {\n",
       "        vertical-align: middle;\n",
       "    }\n",
       "\n",
       "    .dataframe tbody tr th {\n",
       "        vertical-align: top;\n",
       "    }\n",
       "\n",
       "    .dataframe thead th {\n",
       "        text-align: right;\n",
       "    }\n",
       "</style>\n",
       "<table border=\"1\" class=\"dataframe\">\n",
       "  <thead>\n",
       "    <tr style=\"text-align: right;\">\n",
       "      <th></th>\n",
       "      <th>Points</th>\n",
       "      <th>Country</th>\n",
       "      <th>Goal scored</th>\n",
       "    </tr>\n",
       "  </thead>\n",
       "  <tbody>\n",
       "    <tr>\n",
       "      <th>Real Madrid</th>\n",
       "      <td>66</td>\n",
       "      <td>Spain</td>\n",
       "      <td>80</td>\n",
       "    </tr>\n",
       "    <tr>\n",
       "      <th>Bayern Muchen</th>\n",
       "      <td>77</td>\n",
       "      <td>Germany</td>\n",
       "      <td>86</td>\n",
       "    </tr>\n",
       "    <tr>\n",
       "      <th>Ac Milan</th>\n",
       "      <td>89</td>\n",
       "      <td>Italy</td>\n",
       "      <td>89</td>\n",
       "    </tr>\n",
       "    <tr>\n",
       "      <th>PSG</th>\n",
       "      <td>86</td>\n",
       "      <td>France</td>\n",
       "      <td>90</td>\n",
       "    </tr>\n",
       "  </tbody>\n",
       "</table>\n",
       "</div>"
      ],
      "text/plain": [
       "               Points  Country  Goal scored\n",
       "Real Madrid        66    Spain           80\n",
       "Bayern Muchen      77  Germany           86\n",
       "Ac Milan           89    Italy           89\n",
       "PSG                86   France           90"
      ]
     },
     "execution_count": 56,
     "metadata": {},
     "output_type": "execute_result"
    }
   ],
   "source": [
    "df.loc['Real Madrid': 'PSG']"
   ]
  },
  {
   "cell_type": "code",
   "execution_count": 57,
   "id": "db458eae",
   "metadata": {},
   "outputs": [
    {
     "data": {
      "text/plain": [
       "Real Madrid      80\n",
       "Bayern Muchen    86\n",
       "Ac Milan         89\n",
       "PSG              90\n",
       "Name: Goal scored, dtype: int64"
      ]
     },
     "execution_count": 57,
     "metadata": {},
     "output_type": "execute_result"
    }
   ],
   "source": [
    "df.loc['Real Madrid': 'PSG' ,'Goal scored']"
   ]
  },
  {
   "cell_type": "code",
   "execution_count": null,
   "id": "8fa30ef4",
   "metadata": {},
   "outputs": [],
   "source": []
  },
  {
   "cell_type": "code",
   "execution_count": 58,
   "id": "5eec83e3",
   "metadata": {},
   "outputs": [
    {
     "data": {
      "text/html": [
       "<div>\n",
       "<style scoped>\n",
       "    .dataframe tbody tr th:only-of-type {\n",
       "        vertical-align: middle;\n",
       "    }\n",
       "\n",
       "    .dataframe tbody tr th {\n",
       "        vertical-align: top;\n",
       "    }\n",
       "\n",
       "    .dataframe thead th {\n",
       "        text-align: right;\n",
       "    }\n",
       "</style>\n",
       "<table border=\"1\" class=\"dataframe\">\n",
       "  <thead>\n",
       "    <tr style=\"text-align: right;\">\n",
       "      <th></th>\n",
       "      <th>Points</th>\n",
       "      <th>Country</th>\n",
       "      <th>Goal scored</th>\n",
       "    </tr>\n",
       "  </thead>\n",
       "  <tbody>\n",
       "    <tr>\n",
       "      <th>Manchester City</th>\n",
       "      <td>93</td>\n",
       "      <td>England</td>\n",
       "      <td>99</td>\n",
       "    </tr>\n",
       "    <tr>\n",
       "      <th>Real Madrid</th>\n",
       "      <td>66</td>\n",
       "      <td>Spain</td>\n",
       "      <td>80</td>\n",
       "    </tr>\n",
       "    <tr>\n",
       "      <th>Ajax</th>\n",
       "      <td>83</td>\n",
       "      <td>Nedtherlands</td>\n",
       "      <td>98</td>\n",
       "    </tr>\n",
       "  </tbody>\n",
       "</table>\n",
       "</div>"
      ],
      "text/plain": [
       "                 Points       Country  Goal scored\n",
       "Manchester City      93       England           99\n",
       "Real Madrid          66         Spain           80\n",
       "Ajax                 83  Nedtherlands           98"
      ]
     },
     "execution_count": 58,
     "metadata": {},
     "output_type": "execute_result"
    }
   ],
   "source": [
    "df.iloc[[0, 1, -1]]"
   ]
  },
  {
   "cell_type": "code",
   "execution_count": 59,
   "id": "e842bd23",
   "metadata": {},
   "outputs": [
    {
     "data": {
      "text/plain": [
       "Manchester City    99\n",
       "Real Madrid        80\n",
       "Bayern Muchen      86\n",
       "Name: Goal scored, dtype: int64"
      ]
     },
     "execution_count": 59,
     "metadata": {},
     "output_type": "execute_result"
    }
   ],
   "source": [
    "df.iloc[0:3, 2]"
   ]
  },
  {
   "cell_type": "code",
   "execution_count": null,
   "id": "9e584ac1",
   "metadata": {},
   "outputs": [],
   "source": []
  },
  {
   "cell_type": "code",
   "execution_count": null,
   "id": "5ee379c9",
   "metadata": {},
   "outputs": [],
   "source": []
  },
  {
   "cell_type": "code",
   "execution_count": null,
   "id": "2df59e27",
   "metadata": {},
   "outputs": [],
   "source": []
  },
  {
   "cell_type": "code",
   "execution_count": null,
   "id": "eab49614",
   "metadata": {},
   "outputs": [],
   "source": []
  },
  {
   "cell_type": "code",
   "execution_count": null,
   "id": "44c90887",
   "metadata": {},
   "outputs": [],
   "source": []
  },
  {
   "cell_type": "code",
   "execution_count": null,
   "id": "0843b52e",
   "metadata": {},
   "outputs": [],
   "source": []
  },
  {
   "cell_type": "code",
   "execution_count": null,
   "id": "34391fbd",
   "metadata": {},
   "outputs": [],
   "source": []
  },
  {
   "cell_type": "code",
   "execution_count": null,
   "id": "e3911ab2",
   "metadata": {},
   "outputs": [],
   "source": []
  }
 ],
 "metadata": {
  "kernelspec": {
   "display_name": "Python 3",
   "language": "python",
   "name": "python3"
  },
  "language_info": {
   "codemirror_mode": {
    "name": "ipython",
    "version": 3
   },
   "file_extension": ".py",
   "mimetype": "text/x-python",
   "name": "python",
   "nbconvert_exporter": "python",
   "pygments_lexer": "ipython3",
   "version": "3.8.8"
  }
 },
 "nbformat": 4,
 "nbformat_minor": 5
}
